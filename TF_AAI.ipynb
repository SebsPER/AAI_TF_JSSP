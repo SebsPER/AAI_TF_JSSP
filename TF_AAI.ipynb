{
  "nbformat": 4,
  "nbformat_minor": 0,
  "metadata": {
    "colab": {
      "provenance": []
    },
    "kernelspec": {
      "name": "python3",
      "display_name": "Python 3"
    },
    "language_info": {
      "name": "python"
    }
  },
  "cells": [
    {
      "cell_type": "markdown",
      "source": [
        "Integrantes:\n",
        "\n",
        "- Bill Brandon Chavez\n",
        "\n",
        "- Junior Huerta\n",
        "\n",
        "- Sebastian Fernando Peralta"
      ],
      "metadata": {
        "id": "R4XEwsmUDUUr"
      }
    },
    {
      "cell_type": "code",
      "execution_count": null,
      "metadata": {
        "colab": {
          "base_uri": "https://localhost:8080/"
        },
        "id": "rPhk1dtp7V8U",
        "outputId": "d6a39f2e-8921-4c60-f741-35eb4c1fc8af"
      },
      "outputs": [
        {
          "output_type": "stream",
          "name": "stdout",
          "text": [
            "Overwriting abz7\n"
          ]
        }
      ],
      "source": [
        "%%file abz7\n",
        "20 15\n",
        " 2 24  3 12  9 17  4 27  0 21  6 25  8 27  7 26  1 30  5 31 11 18 14 16 13 39 10 19 12 26\n",
        " 6 30  3 15 12 20 11 19  1 24 13 15 10 28  2 36  5 26  7 15  0 11  8 23 14 20  9 26  4 28\n",
        " 6 35  0 22 13 23  7 32  2 20  3 12 12 19 10 23  9 17  1 14  5 16 11 29  8 16  4 22 14 22\n",
        " 9 20  6 29  1 19  7 14 12 33  4 30  0 32  5 21 11 29 10 24 14 25  2 29  3 13  8 20 13 18\n",
        "11 23 13 20  1 28  6 32  7 16  5 18  8 24  9 23  3 24 10 34  2 24  0 24 14 28 12 15  4 18\n",
        " 8 24 11 19 14 21  1 33  7 34  6 35  5 40 10 36  3 23  2 26  4 15  9 28 13 38 12 13  0 25\n",
        "13 27  3 30  6 21  8 19 12 12  4 27  2 39  9 13 14 12  5 36 10 21 11 17  1 29  0 17  7 33\n",
        " 5 27  4 19  6 29  9 20  3 21 10 40  8 14 14 39 13 39  2 27  1 36 12 12 11 37  7 22  0 13\n",
        "13 32 11 29  8 24  3 27  5 40  4 21  9 26  0 27 14 27  6 16  2 21 10 13  7 28 12 28  1 32\n",
        "12 35  1 11  5 39 14 18  7 23  0 34  3 24 13 11  8 30 11 31  4 15 10 15  2 28  9 26  6 33\n",
        "10 28  5 37 12 29  1 31  7 25  8 13 14 14  4 20  3 27  9 25 13 31 11 14  6 25  2 39  0 36\n",
        " 0 22 11 25  5 28 13 35  4 31  8 21  9 20 14 19  2 29  7 32 10 18  1 18  3 11 12 17  6 15\n",
        "12 39  5 32  2 36  8 14  3 28 13 37  0 38  6 20  7 19 11 12 14 22  1 36  4 15  9 32 10 16\n",
        " 8 28  1 29 14 40 12 23  4 34  5 33  6 27 10 17  0 20  7 28 11 21  2 21 13 20  9 33  3 27\n",
        " 9 21 14 34  3 30 12 38  0 11 11 16  2 14  5 14  1 34  8 33  4 23 13 40 10 12  6 23  7 27\n",
        " 9 13 14 40  7 36  4 17  0 13  5 33  8 25 13 24 10 23  3 36  2 29  1 18 11 13  6 33 12 13\n",
        " 3 25  5 15  2 28 12 40  7 39  1 31  8 35  6 31 11 36  4 12 10 33 14 19  9 16 13 27  0 21\n",
        "12 22 10 14  0 12  2 20  5 12  1 18 11 17  8 39 14 31  3 31  7 32  9 20 13 29  4 13  6 26\n",
        " 5 18 10 30  7 38 14 22 13 15 11 20  9 16  3 17  1 12  2 13 12 40  6 17  8 30  4 38  0 13\n",
        " 9 31  8 39 12 27  1 14  5 33  3 31 11 22 13 36  0 16  7 11 14 14  4 29  6 28  2 22 10 17"
      ]
    },
    {
      "cell_type": "code",
      "source": [
        "%%file la24\n",
        "15\t10 \n",
        "7\t8\t9\t75\t0\t72\t6\t74\t4\t30\t8\t43\t2\t38\t5\t98\t1\t26\t3\t19\n",
        "6\t19\t8\t73\t3\t43\t0\t23\t1\t85\t4\t39\t5\t13\t9\t26\t2\t67\t7\t9\n",
        "1\t50\t3\t93\t5\t80\t4\t7\t0\t55\t2\t61\t6\t57\t8\t72\t9\t42\t7\t46\n",
        "1\t68\t7\t43\t4\t99\t6\t60\t5\t68\t0\t91\t8\t11\t3\t96\t9\t11\t2\t72\n",
        "7\t84\t2\t34\t8\t40\t5\t7\t1\t70\t6\t74\t3\t12\t0\t43\t9\t69\t4\t30\n",
        "8\t60\t0\t49\t4\t59\t5\t72\t9\t63\t1\t69\t7\t99\t6\t45\t3\t27\t2\t9\n",
        "6\t71\t2\t91\t8\t65\t1\t90\t9\t98\t4\t8\t7\t50\t0\t75\t5\t37\t3\t17\n",
        "8\t62\t7\t90\t5\t98\t3\t31\t2\t91\t4\t38\t9\t72\t1\t9\t0\t72\t6\t49\n",
        "4\t35\t0\t39\t9\t74\t5\t25\t7\t47\t3\t52\t2\t63\t8\t21\t6\t35\t1\t80\n",
        "9\t58\t0\t5\t3\t50\t8\t52\t1\t88\t6\t20\t2\t68\t5\t24\t4\t53\t7\t57\n",
        "7\t99\t3\t91\t4\t33\t5\t19\t2\t18\t6\t38\t0\t24\t9\t35\t1\t49\t8\t9\n",
        "0\t68\t3\t60\t2\t77\t7\t10\t8\t60\t5\t15\t9\t72\t1\t18\t6\t90\t4\t18\n",
        "9\t79\t1\t60\t3\t56\t6\t91\t2\t40\t8\t86\t7\t72\t0\t80\t5\t89\t4\t51\n",
        "4\t10\t2\t92\t5\t23\t6\t46\t8\t40\t7\t72\t3\t6\t1\t23\t0\t95\t9\t34\n",
        "2\t24\t5\t29\t9\t49\t8\t55\t0\t47\t6\t77\t3\t77\t7\t8\t1\t28\t4\t48"
      ],
      "metadata": {
        "id": "_EPpsYBvDHyE"
      },
      "execution_count": null,
      "outputs": []
    },
    {
      "cell_type": "code",
      "source": [
        "%%file swv15\n",
        "50\t10 \n",
        "2\t93\t4\t40\t0\t1\t3\t77\t1\t77\t5\t16\t9\t74\t8\t11\t6\t51\t7\t92\n",
        "0\t92\t4\t80\t1\t76\t3\t59\t2\t70\t5\t86\t9\t17\t6\t78\t7\t30\t8\t93\n",
        "1\t44\t2\t92\t3\t96\t4\t77\t0\t53\t9\t10\t7\t49\t5\t84\t8\t59\t6\t14\n",
        "1\t60\t2\t19\t3\t76\t0\t73\t4\t85\t7\t13\t8\t93\t5\t68\t9\t50\t6\t78\n",
        "2\t20\t0\t24\t3\t41\t1\t2\t4\t4\t9\t44\t7\t79\t8\t81\t5\t16\t6\t39\n",
        "3\t41\t2\t35\t1\t32\t4\t18\t0\t15\t8\t98\t6\t29\t5\t19\t7\t14\t9\t26\n",
        "1\t59\t0\t45\t4\t53\t3\t44\t2\t98\t5\t84\t6\t23\t7\t45\t8\t39\t9\t89\n",
        "1\t30\t4\t51\t3\t25\t0\t51\t2\t84\t6\t60\t5\t45\t7\t89\t8\t25\t9\t97\n",
        "0\t47\t3\t18\t2\t40\t4\t62\t1\t58\t5\t36\t7\t93\t8\t77\t9\t90\t6\t15\n",
        "3\t33\t1\t68\t0\t41\t4\t72\t2\t20\t6\t69\t7\t47\t5\t22\t9\t47\t8\t22\n",
        "2\t28\t1\t100\t4\t20\t0\t35\t3\t26\t5\t24\t9\t41\t6\t42\t7\t100\t8\t32\n",
        "0\t65\t2\t12\t4\t53\t3\t93\t1\t40\t8\t18\t7\t23\t5\t60\t6\t89\t9\t53\n",
        "0\t58\t1\t60\t4\t97\t3\t31\t2\t50\t9\t85\t5\t64\t7\t38\t6\t85\t8\t35\n",
        "3\t64\t0\t58\t1\t49\t2\t45\t4\t9\t8\t49\t6\t22\t5\t99\t9\t15\t7\t7\n",
        "0\t10\t4\t85\t3\t72\t2\t37\t1\t77\t5\t70\t7\t45\t9\t8\t6\t83\t8\t57\n",
        "4\t93\t0\t87\t1\t87\t2\t18\t3\t4\t8\t78\t5\t67\t9\t20\t6\t17\t7\t35\n",
        "4\t72\t0\t56\t3\t57\t2\t15\t1\t45\t6\t41\t5\t40\t9\t85\t8\t32\t7\t81\n",
        "0\t36\t3\t63\t4\t79\t2\t32\t1\t5\t6\t25\t7\t86\t9\t91\t5\t21\t8\t35\n",
        "2\t83\t4\t29\t0\t9\t1\t38\t3\t73\t7\t50\t9\t99\t5\t18\t8\t29\t6\t41\n",
        "0\t100\t3\t29\t2\t60\t4\t63\t1\t64\t8\t71\t6\t35\t5\t26\t9\t9\t7\t22\n",
        "1\t81\t0\t60\t3\t62\t4\t48\t2\t68\t7\t28\t5\t69\t8\t92\t6\t79\t9\t10\n",
        "0\t40\t4\t80\t1\t41\t2\t10\t3\t68\t8\t28\t9\t51\t7\t33\t6\t82\t5\t25\n",
        "4\t30\t2\t12\t0\t35\t3\t17\t1\t70\t9\t29\t7\t18\t8\t93\t6\t94\t5\t37\n",
        "1\t36\t2\t41\t3\t27\t4\t36\t0\t78\t7\t64\t6\t88\t5\t25\t9\t92\t8\t66\n",
        "2\t65\t3\t27\t4\t74\t0\t32\t1\t40\t5\t88\t8\t73\t6\t92\t7\t83\t9\t42\n",
        "0\t48\t1\t85\t2\t92\t4\t95\t3\t61\t8\t72\t9\t76\t5\t58\t7\t11\t6\t89\n",
        "3\t84\t2\t50\t0\t70\t4\t24\t1\t42\t9\t55\t5\t100\t6\t70\t7\t4\t8\t68\n",
        "0\t95\t4\t41\t2\t11\t3\t98\t1\t85\t5\t64\t6\t8\t7\t26\t8\t6\t9\t6\n",
        "0\t84\t2\t49\t1\t17\t3\t69\t4\t55\t8\t75\t6\t45\t9\t38\t7\t59\t5\t28\n",
        "2\t48\t0\t29\t4\t1\t1\t64\t3\t41\t5\t23\t7\t64\t9\t31\t6\t56\t8\t12\n",
        "2\t81\t4\t25\t3\t33\t0\t22\t1\t50\t5\t74\t9\t56\t8\t33\t7\t85\t6\t83\n",
        "1\t62\t4\t25\t0\t21\t2\t20\t3\t8\t6\t36\t9\t9\t5\t91\t8\t90\t7\t49\n",
        "1\t43\t0\t16\t2\t91\t3\t96\t4\t24\t5\t11\t9\t91\t7\t41\t8\t35\t6\t66\n",
        "1\t91\t2\t20\t4\t44\t0\t42\t3\t87\t9\t57\t6\t15\t5\t38\t8\t42\t7\t89\n",
        "0\t33\t3\t95\t4\t68\t2\t22\t1\t80\t7\t53\t8\t13\t9\t70\t5\t22\t6\t69\n",
        "0\t15\t3\t47\t1\t24\t2\t31\t4\t41\t8\t14\t9\t28\t7\t59\t5\t52\t6\t39\n",
        "2\t95\t0\t42\t4\t5\t1\t57\t3\t67\t6\t30\t9\t21\t8\t70\t5\t9\t7\t20\n",
        "2\t54\t0\t15\t1\t20\t3\t64\t4\t83\t9\t40\t7\t6\t5\t89\t6\t91\t8\t48\n",
        "0\t22\t4\t27\t1\t77\t3\t25\t2\t16\t8\t72\t9\t61\t6\t75\t7\t4\t5\t19\n",
        "3\t68\t1\t82\t2\t16\t0\t83\t4\t2\t7\t10\t8\t88\t5\t41\t9\t21\t6\t66\n",
        "1\t64\t0\t76\t2\t85\t3\t71\t4\t97\t5\t97\t7\t8\t6\t40\t8\t70\t9\t35\n",
        "0\t94\t1\t45\t2\t94\t4\t84\t3\t44\t8\t41\t5\t30\t7\t47\t6\t19\t9\t22\n",
        "2\t23\t1\t10\t0\t82\t3\t93\t4\t90\t8\t67\t7\t9\t9\t18\t5\t22\t6\t87\n",
        "0\t75\t2\t27\t4\t97\t3\t9\t1\t57\t9\t14\t5\t50\t7\t31\t8\t62\t6\t23\n",
        "1\t42\t3\t41\t2\t35\t0\t75\t4\t18\t9\t65\t7\t38\t6\t38\t8\t51\t5\t56\n",
        "4\t72\t1\t63\t0\t33\t2\t27\t3\t41\t5\t52\t7\t42\t9\t10\t6\t14\t8\t71\n",
        "2\t91\t1\t89\t0\t44\t4\t91\t3\t26\t6\t49\t5\t22\t8\t31\t9\t69\t7\t5\n",
        "3\t42\t1\t34\t0\t4\t4\t34\t2\t16\t6\t86\t7\t25\t8\t99\t5\t67\t9\t25\n",
        "4\t34\t1\t93\t0\t26\t3\t81\t2\t9\t7\t96\t8\t79\t9\t68\t5\t76\t6\t10\n",
        "3\t19\t1\t47\t4\t13\t2\t98\t0\t32\t7\t12\t9\t45\t6\t52\t8\t49\t5\t34"
      ],
      "metadata": {
        "id": "REw5VnoyDKyO"
      },
      "execution_count": null,
      "outputs": []
    },
    {
      "cell_type": "code",
      "source": [
        "import numpy as np\n",
        "import random\n",
        "import matplotlib.pyplot as plt"
      ],
      "metadata": {
        "id": "KOjBZCao83C6"
      },
      "execution_count": null,
      "outputs": []
    },
    {
      "cell_type": "code",
      "source": [
        "def randRep(n, m):\n",
        "    rep = [i for i in range(n)]*m\n",
        "    pos = []\n",
        "    random.shuffle(rep)\n",
        "    rep = np.array(rep)\n",
        "    for i in range(n):\n",
        "        pos.append((rep == i).nonzero()[0].tolist())\n",
        "    return np.array(rep), np.array(pos)"
      ],
      "metadata": {
        "id": "2n_IBSsI8gpW"
      },
      "execution_count": null,
      "outputs": []
    },
    {
      "cell_type": "code",
      "source": [
        "def calcMakespan(rep, n, m, jobs):\n",
        "    mstart = np.zeros((m), dtype=int)\n",
        "    jend = np.zeros((n), dtype=int)\n",
        "    idxs = np.zeros((n), dtype=int)\n",
        "    makespan = 0\n",
        "    for e in rep:\n",
        "        i = idxs[e]\n",
        "        idxs[e] += 1\n",
        "        midx = jobs[e, i, 0]\n",
        "        time = jobs[e, i, 1]\n",
        "        #print(f\"Job {e} task {i} to machine {midx} starting at {mstart[midx]} duration {time}\")\n",
        "        mstart[midx] = max(mstart[midx], jend[e]) + time\n",
        "        #mstart[midx] = np.amax([mstart[midx], jend[e]]) + time#max(mstart[midx], jend[e]) + time\n",
        "        jend[e] = mstart[midx]\n",
        "        if mstart[midx] > makespan:\n",
        "            makespan = mstart[midx]\n",
        "\n",
        "    return makespan"
      ],
      "metadata": {
        "id": "iXL-0aYD87Yy"
      },
      "execution_count": null,
      "outputs": []
    },
    {
      "cell_type": "code",
      "source": [
        "def mkSolution(rep, n, m, jobs, makespan):\n",
        "    mstart = np.zeros((m), dtype=int)\n",
        "    jend = np.zeros((n), dtype=int)\n",
        "    idxs = np.zeros((n), dtype=int)\n",
        "    schedule = np.zeros((m*10, makespan))\n",
        "\n",
        "    for e in rep:\n",
        "        i = idxs[e]\n",
        "        idxs[e] += 1\n",
        "        midx = jobs[e, i, 0]\n",
        "        time = jobs[e, i, 1]\n",
        "        mstart[midx] = max(mstart[midx], jend[e])\n",
        "        schedule[midx*10:(midx+1)*10, mstart[midx]:mstart[midx] + time] = e+1\n",
        "        mstart[midx] += time\n",
        "        jend[e] = mstart[midx]\n",
        "\n",
        "    plt.subplots(figsize=(20, 10))\n",
        "    plt.imshow(schedule)"
      ],
      "metadata": {
        "id": "0tUSJo05-6Uc"
      },
      "execution_count": null,
      "outputs": []
    },
    {
      "cell_type": "code",
      "source": [
        "def nswap(rep, pos, n, m, debug=False):\n",
        "    numswaps = 2\n",
        "    while numswaps < n - 1:\n",
        "        if random.randint(1, 2) == 1:\n",
        "            break\n",
        "        else:\n",
        "            numswaps += 1\n",
        "    if debug: print(numswaps)\n",
        "    jobs = random.sample(range(n), numswaps)\n",
        "    if debug: print(jobs)\n",
        "    for k in range(numswaps - 1):\n",
        "        i0 = random.randint(0, m-1)\n",
        "        j0 = random.randint(0, m-1)\n",
        "        i = pos[jobs[k], i0]\n",
        "        j = pos[jobs[k+1], j0]\n",
        "        if debug: print(i0, j0, i, j)\n",
        "        rep[i], rep[j] = rep[j], rep[i]\n",
        "        pos[jobs[k], i0], pos[jobs[k+1], j0] = pos[jobs[k+1], j0], pos[jobs[k], i0]\n",
        "    return rep, pos"
      ],
      "metadata": {
        "id": "0FZdBoK7Kv9g"
      },
      "execution_count": null,
      "outputs": []
    },
    {
      "cell_type": "code",
      "source": [
        "def recombination(x1, x2):\n",
        "    n = len(x1)\n",
        "    x = [0]*n\n",
        "    mark1 = [False]*n\n",
        "    mark2 = [False]*n\n",
        "    i1 = 0\n",
        "    i2 = 0\n",
        "    i = 0\n",
        "    for i in range(n):\n",
        "        if random.randint(1, 100) < 50:\n",
        "            while mark1[i1]:\n",
        "                i1 += 1\n",
        "            p = x1[i1]\n",
        "            i1 += 1\n",
        "            for q in range(i2, n):\n",
        "                if x2[q] == p and not mark2[q]:\n",
        "                    mark2[q] = True\n",
        "                    break\n",
        "        else:\n",
        "            while mark2[i2]:\n",
        "                i2 += 1\n",
        "            p = x2[i2]\n",
        "            i2 += 1\n",
        "            for q in range(i1, n):\n",
        "                if x1[q] == p and not mark1[q]:\n",
        "                    mark1[q] = True\n",
        "                    break\n",
        "        x[i] = p\n",
        "\n",
        "    return x"
      ],
      "metadata": {
        "id": "kKMpjNfYmpHB"
      },
      "execution_count": null,
      "outputs": []
    },
    {
      "cell_type": "code",
      "source": [
        "import time\n",
        "import math\n",
        "\n",
        "def ea_recom(n, m, jobs, μ, λ, delay):\n",
        "    solutions = np.zeros((μ + λ, m*n), dtype=int)\n",
        "    positions = np.zeros((μ + λ, n, m), dtype=int)\n",
        "    for i in range(μ + λ):\n",
        "        rep, pos = randRep(n, m)\n",
        "        solutions[i] = rep\n",
        "        positions[i] = pos\n",
        "    makespans = np.zeros((μ + λ), dtype=int)\n",
        "\n",
        "    bestMakespan = math.inf\n",
        "    bestIdx = -1\n",
        "\n",
        "    timesup = False\n",
        "    start = time.time()\n",
        "    iter = 0\n",
        "    progress = []\n",
        "\n",
        "    while not timesup:\n",
        "        iter += 1\n",
        "        print(iter)\n",
        "\n",
        "        if iter == 1:\n",
        "            for i in range(μ + λ):\n",
        "                makespans[i] = calcMakespan(solutions[i], n, m, jobs)\n",
        "        else:\n",
        "            for i in change:\n",
        "                makespans[i] = calcMakespan(solutions[i], n, m, jobs) # solo calcular los que hicieron recombination\n",
        "        \n",
        "        change = [] # lista para los indices de las soluciones que hicieron swap\n",
        "\n",
        "        bestIdx = np.argmin(makespans) # obtener el indice del mejor makespan con funcion de numpy\n",
        "        bestMakespan = makespans[bestIdx]\n",
        "\n",
        "        _, μbest = np.unique(makespans, return_index=True)\n",
        "\n",
        "        if len(μbest) >= μ:\n",
        "            μbest = np.sort(μbest)[:μ]\n",
        "        else: μbest = np.sort(μbest)\n",
        "\n",
        "        λworst = np.array([i for i in range(μ + λ)]) # converti la lista λworst en un arreglo numpy\n",
        "        for i in μbest:\n",
        "            λworst = np.delete(λworst, np.where(λworst == i)) # acelerar el proceso de borrado de elementos ya que es numpy\n",
        "\n",
        "        for i in λworst: #range(λ): # generamos λ hijos/\"offspring\"\n",
        "            p1_idx = random.choice(μbest) # se elige aleatoriamente a un padre\n",
        "            p2_idx = random.choice(μbest) # y al segundo\n",
        "\n",
        "            solutions[i] = recombination(solutions[p1_idx].copy(), solutions[p2_idx].copy()) # se combina a ambos padres\n",
        "            pos = []\n",
        "            for j in range(n): # calculo del arreglo de posiciones para la solucion recombinada\n",
        "                pos.append((solutions[i] == j).nonzero()[0].tolist())\n",
        "            positions[i] = np.array(pos)\n",
        "\n",
        "            #next += 1\n",
        "            change.append(i) # guardamos los indices de las reps que hicieron recombination\n",
        "        progress.append(bestMakespan)\n",
        "        \n",
        "        if time.time() - start >= delay:\n",
        "            timesup = True\n",
        "    print(\"iters:\", iter)\n",
        "    return solutions[bestIdx], bestMakespan, progress"
      ],
      "metadata": {
        "id": "0IGICEuZoohG"
      },
      "execution_count": null,
      "outputs": []
    },
    {
      "cell_type": "code",
      "source": [
        "with open('abz7') as f:\n",
        "    n, m = [int(x) for x in f.readline().split()]\n",
        "    jobs = np.zeros((n, m, 2), dtype=int)\n",
        "    i = 0\n",
        "    for line in f:\n",
        "        jobs[i] = np.array([int(x) for x in line.split()]).reshape(m, 2)\n",
        "        i += 1\n",
        "\n",
        "    #random.seed(1181)\n",
        "    rep, makespan, data = ea_recom(n, m, jobs, 2**13, 2**13, 60*3)\n",
        "    mkSolution(rep, n, m, jobs, makespan)"
      ],
      "metadata": {
        "colab": {
          "base_uri": "https://localhost:8080/",
          "height": 340
        },
        "id": "QUyLDAEkoeo6",
        "outputId": "a89a8aa0-df4a-4048-8e48-ac2928226afe"
      },
      "execution_count": null,
      "outputs": [
        {
          "output_type": "stream",
          "name": "stdout",
          "text": [
            "1\n",
            "2\n",
            "3\n",
            "4\n",
            "5\n",
            "iters: 5\n"
          ]
        },
        {
          "output_type": "display_data",
          "data": {
            "text/plain": [
              "<Figure size 1440x720 with 1 Axes>"
            ],
            "image/png": "[encoded data removed]"
          },
          "metadata": {
            "needs_background": "light"
          }
        }
      ]
    },
    {
      "cell_type": "code",
      "source": [
        "fig = plt.figure()\n",
        "ax = fig.add_subplot(111)\n",
        "ax.plot(data)\n",
        "ax.set_xscale('log')\n",
        "plt.show()"
      ],
      "metadata": {
        "colab": {
          "base_uri": "https://localhost:8080/",
          "height": 269
        },
        "id": "ANGfMkvTp8HA",
        "outputId": "6880042c-874b-4c4c-9356-f60253a4a187"
      },
      "execution_count": null,
      "outputs": [
        {
          "output_type": "display_data",
          "data": {
            "text/plain": [
              "<Figure size 432x288 with 1 Axes>"
            ],
            "image/png": "[encoded data removed]"
          },
          "metadata": {
            "needs_background": "light"
          }
        }
      ]
    },
    {
      "cell_type": "markdown",
      "source": [
        "abz7 results: 896, 923, 902, 936, 909, 924, 920, 921, 906"
      ],
      "metadata": {
        "id": "nJukC9g9fGRx"
      }
    },
    {
      "cell_type": "code",
      "source": [
        "makespan"
      ],
      "metadata": {
        "colab": {
          "base_uri": "https://localhost:8080/"
        },
        "id": "U0JkivTep_Kg",
        "outputId": "c69236fd-39aa-47cd-b2c7-b8720ac54e7d"
      },
      "execution_count": null,
      "outputs": [
        {
          "output_type": "execute_result",
          "data": {
            "text/plain": [
              "906"
            ]
          },
          "metadata": {},
          "execution_count": 29
        }
      ]
    },
    {
      "cell_type": "code",
      "source": [
        "print(data)"
      ],
      "metadata": {
        "colab": {
          "base_uri": "https://localhost:8080/"
        },
        "id": "UhZql__-qAGt",
        "outputId": "67c50ec3-791b-40de-b252-c1cdebad21e9"
      },
      "execution_count": null,
      "outputs": [
        {
          "output_type": "stream",
          "name": "stdout",
          "text": [
            "[1036, 952, 950, 927, 902]\n"
          ]
        }
      ]
    }
  ]
}